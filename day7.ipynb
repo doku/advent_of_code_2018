{
 "cells": [
  {
   "cell_type": "code",
   "execution_count": 15,
   "metadata": {},
   "outputs": [],
   "source": [
    "with open(\"day7\") as f:\n",
    "    data = f.read()\n",
    "    \n",
    "#data = \"\"\"Step C must be finished before step A can begin.\n",
    "#Step C must be finished before step F can begin.\n",
    "#Step A must be finished before step B can begin.\n",
    "#Step A must be finished before step D can begin.\n",
    "#Step B must be finished before step E can begin.\n",
    "#Step D must be finished before step E can begin.\n",
    "#Step F must be finished before step E can begin.\"\"\""
   ]
  },
  {
   "cell_type": "code",
   "execution_count": 26,
   "metadata": {},
   "outputs": [
    {
     "name": "stdout",
     "output_type": "stream",
     "text": [
      "[('P', 'G'), ('X', 'V'), ('H', 'R'), ('O', 'W'), ('C', 'F'), ('U', 'M'), ('E', 'W'), ('F', 'J'), ('W', 'K'), ('R', 'M'), ('I', 'K'), ('D', 'B'), ('Z', 'A'), ('A', 'N'), ('T', 'J'), ('B', 'N'), ('Y', 'M'), ('Q', 'N'), ('G', 'V'), ('J', 'N'), ('M', 'V'), ('N', 'V'), ('K', 'S'), ('V', 'L'), ('S', 'L'), ('W', 'D'), ('A', 'V'), ('T', 'Y'), ('H', 'W'), ('O', 'C'), ('P', 'S'), ('Z', 'N'), ('G', 'K'), ('I', 'T'), ('D', 'M'), ('A', 'Q'), ('O', 'S'), ('N', 'L'), ('V', 'S'), ('M', 'N'), ('A', 'B'), ('H', 'B'), ('H', 'G'), ('Q', 'M'), ('U', 'E'), ('C', 'S'), ('M', 'L'), ('T', 'L'), ('I', 'N'), ('Y', 'N'), ('K', 'V'), ('U', 'B'), ('H', 'Z'), ('H', 'Y'), ('E', 'F'), ('F', 'Q'), ('R', 'G'), ('T', 'S'), ('T', 'Q'), ('X', 'H'), ('Q', 'S'), ('Q', 'J'), ('G', 'S'), ('D', 'S'), ('A', 'J'), ('I', 'Y'), ('U', 'K'), ('P', 'R'), ('A', 'T'), ('J', 'K'), ('Z', 'J'), ('Z', 'V'), ('P', 'X'), ('E', 'I'), ('G', 'L'), ('G', 'N'), ('J', 'L'), ('I', 'Q'), ('Q', 'K'), ('B', 'J'), ('R', 'T'), ('Z', 'K'), ('J', 'V'), ('R', 'L'), ('R', 'N'), ('W', 'Q'), ('U', 'W'), ('Y', 'V'), ('C', 'T'), ('X', 'B'), ('M', 'S'), ('B', 'K'), ('D', 'N'), ('P', 'U'), ('N', 'K'), ('M', 'K'), ('C', 'A'), ('W', 'B'), ('C', 'Y'), ('T', 'V'), ('W', 'M')]\n"
     ]
    }
   ],
   "source": [
    "import re\n",
    "d_list = []\n",
    "#graph = {}\n",
    "for l in data.split(\"\\n\"):\n",
    "    m = re.match(r\"Step ([^\\s]+) must be finished before step ([^\\s]+) can begin.\", l)\n",
    "    d_list.append((m.group(1), m.group(2)))\n",
    "    #if m.group(1) in graph.keys():\n",
    "        #print(graph.keys(), m.group(1), type(graph[m.group(1)]))\n",
    "    #    graph[m.group(1)].add(m.group(2))  \n",
    "    #else:\n",
    "    #    graph[m.group(1)] = set([m.group(2)])\n",
    "#print(graph)\n",
    "print(d_list)"
   ]
  },
  {
   "cell_type": "code",
   "execution_count": 30,
   "metadata": {},
   "outputs": [
    {
     "name": "stdout",
     "output_type": "stream",
     "text": [
      "{'K': {'S', 'V'}, 'F': {'J', 'Q'}, 'W': {'K', 'D', 'M', 'B', 'Q'}, 'J': {'K', 'V', 'N', 'L'}, 'R': {'G', 'T', 'M', 'N', 'L'}, 'Y': {'M', 'N', 'V'}, 'P': {'G', 'S', 'U', 'X', 'R'}, 'E': {'I', 'F', 'W'}, 'D': {'S', 'M', 'B', 'N'}, 'C': {'Y', 'T', 'F', 'A', 'S'}, 'O': {'S', 'W', 'C'}, 'V': {'S', 'L'}, 'I': {'K', 'T', 'Q', 'Y', 'N'}, 'T': {'L', 'J', 'Y', 'S', 'Q', 'V'}, 'Z': {'N', 'K', 'J', 'A', 'V'}, 'U': {'K', 'M', 'B', 'E', 'W'}, 'X': {'H', 'B', 'V'}, 'Q': {'K', 'S', 'M', 'J', 'N'}, 'H': {'Z', 'W', 'R', 'Y', 'B', 'G'}, 'B': {'K', 'J', 'N'}, 'A': {'T', 'J', 'Q', 'B', 'N', 'V'}, 'G': {'K', 'S', 'L', 'N', 'V'}, 'M': {'K', 'S', 'L', 'N', 'V'}, 'S': {'L'}, 'N': {'K', 'L', 'V'}}\n"
     ]
    }
   ],
   "source": [
    "all_nodes = set()\n",
    "for k in d_list:\n",
    "    all_nodes.add(k[0])\n",
    "    all_nodes.add(k[1])\n",
    "    \n",
    "#print(all_nodes)\n",
    "\n",
    "#for i in all_nodes:\n",
    "graph_forward = {}\n",
    "graph_backward = {}\n",
    "stack = []\n",
    "for d in d_list:\n",
    "    if d[0] in graph_forward:\n",
    "        graph_forward[d[0]].add(d[1])\n",
    "    else:\n",
    "        graph_forward[d[0]] = set([d[1]])\n",
    "    if d[1] in graph_backward:\n",
    "        graph_backward[d[1]].add(d[0])\n",
    "    else:\n",
    "        graph_backward[d[1]] = set(d[0])\n",
    "print(graph_forward)"
   ]
  }
 ],
 "metadata": {
  "kernelspec": {
   "display_name": "Python 3",
   "language": "python",
   "name": "python3"
  },
  "language_info": {
   "codemirror_mode": {
    "name": "ipython",
    "version": 3
   },
   "file_extension": ".py",
   "mimetype": "text/x-python",
   "name": "python",
   "nbconvert_exporter": "python",
   "pygments_lexer": "ipython3",
   "version": "3.5.6"
  }
 },
 "nbformat": 4,
 "nbformat_minor": 2
}

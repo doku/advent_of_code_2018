{
 "cells": [
  {
   "cell_type": "code",
   "execution_count": 141,
   "metadata": {},
   "outputs": [],
   "source": [
    "with open(\"day6.input\") as f:\n",
    "    data = f.read()\n",
    "\n",
    "\n",
    "#data = \"\"\"1, 1\n",
    "#1, 6\n",
    "#8, 3\n",
    "#3, 4\n",
    "#5, 5\n",
    "#8, 9\"\"\""
   ]
  },
  {
   "cell_type": "code",
   "execution_count": 142,
   "metadata": {},
   "outputs": [
    {
     "name": "stdout",
     "output_type": "stream",
     "text": [
      "[(165, 169), (334, 217), (330, 227), (317, 72), (304, 232), (115, 225), (323, 344), (161, 204), (316, 259), (63, 250), (280, 205), (84, 282), (271, 158), (190, 296), (106, 349), (171, 178), (203, 108), (89, 271), (193, 254), (111, 210), (341, 343), (349, 311), (143, 172), (170, 307), (128, 157), (183, 315), (211, 297), (74, 281), (119, 164), (266, 345), (184, 62), (96, 142), (134, 61), (117, 52), (318, 72), (338, 287), (61, 215), (323, 255), (93, 171), (325, 249), (183, 171), (71, 235), (329, 306), (322, 219), (151, 298), (180, 255), (336, 291), (72, 300), (223, 286), (179, 257)]\n"
     ]
    }
   ],
   "source": [
    "coord_list = []\n",
    "for d in data.split(\"\\n\"):\n",
    "    coord_list.append(tuple(int(i) for i in d.split(\", \")))\n",
    "    \n",
    "print(coord_list)"
   ]
  },
  {
   "cell_type": "code",
   "execution_count": 143,
   "metadata": {},
   "outputs": [],
   "source": [
    "def manhattan(c1, c2):\n",
    "    return abs(c2[0] - c1[0]) + abs(c2[1] - c1[1])"
   ]
  },
  {
   "cell_type": "code",
   "execution_count": 148,
   "metadata": {},
   "outputs": [
    {
     "name": "stdout",
     "output_type": "stream",
     "text": [
      "0 165 169\n",
      "1 334 217\n",
      "2 330 227\n",
      "3 317 72\n",
      "4 304 232\n",
      "5 115 225\n",
      "6 323 344\n",
      "7 161 204\n",
      "8 316 259\n",
      "9 63 250\n",
      "10 280 205\n",
      "11 84 282\n",
      "12 271 158\n",
      "13 190 296\n",
      "14 106 349\n",
      "15 171 178\n",
      "16 203 108\n",
      "17 89 271\n",
      "18 193 254\n",
      "19 111 210\n",
      "20 341 343\n",
      "21 349 311\n",
      "22 143 172\n",
      "23 170 307\n",
      "24 128 157\n",
      "25 183 315\n",
      "26 211 297\n",
      "27 74 281\n",
      "28 119 164\n",
      "29 266 345\n",
      "30 184 62\n",
      "31 96 142\n",
      "32 134 61\n",
      "33 117 52\n",
      "34 318 72\n",
      "35 338 287\n",
      "36 61 215\n",
      "37 323 255\n",
      "38 93 171\n",
      "39 325 249\n",
      "40 183 171\n",
      "41 71 235\n",
      "42 329 306\n",
      "43 322 219\n",
      "44 151 298\n",
      "45 180 255\n",
      "46 336 291\n",
      "47 72 300\n",
      "48 223 286\n",
      "49 179 257\n",
      "{0: 1151, 1: 14822, 2: 2824, 3: 6894, 4: 1811, 5: 1891, 6: 6517, 7: 2211, 8: 1764, 9: 2385, 10: 3506, 11: 712, 12: 6047, 13: 691, 14: 26429, 15: 425, 16: 5361, 17: 1287, 18: 2691, 19: 1267, 20: 28166, 21: 5702, 22: 805, 23: 3000, 24: 1179, 25: 6285, 26: 2383, 27: 1528, 28: 736, 29: 14720, 30: 7890, 31: 7792, 32: 3489, 33: 11332, 34: 24965, 35: 4598, 36: 3975, 37: 1942, 38: 2917, 39: 2285, 40: 2805, 41: 1218, 42: 1443, 43: 1052, 44: 2634, 45: 1021, 46: 1095, 47: 4806, 48: 3061, 49: 875}\n"
     ]
    }
   ],
   "source": [
    "dim_list = {}\n",
    "dimx1 = 0\n",
    "dimx2 = 500\n",
    "dimy1 = 0\n",
    "dimy2 = 500\n",
    "for x in range(dimx1, dimx2):\n",
    "    for y in range(dimy1, dimy2):\n",
    "        dim_list[x,y] = None\n",
    "\n",
    "for i, coor in enumerate(coord_list):\n",
    "    #print(i, coor[0], coor[1])\n",
    "    dim_list[coor[0],coor[1]] = i\n",
    "\n",
    "\n",
    "i_count = {i: 0 for i in range(len(coord_list))}\n",
    "for y in range(dimy1, dimy2):\n",
    "    for x in range(dimx1, dimx2):\n",
    "        a = {i: manhattan(coor, (x,y)) for i, coor in enumerate(coord_list)}\n",
    "        b = sorted(a.items(), key=lambda z: z[1])\n",
    "        if b[0][1] != b[1][1]:\n",
    "            #print(b[0][0])\n",
    "            #print(dim_list[x,y], b[0][0])\n",
    "            dim_list[x,y] = b[0][0]\n",
    "            i_count[b[0][0]] = i_count[b[0][0]] + 1\n",
    "            #print(dim_list[y][x])\n",
    "\n",
    "#print(a)\n",
    "print(i_count)"
   ]
  },
  {
   "cell_type": "code",
   "execution_count": 149,
   "metadata": {},
   "outputs": [
    {
     "name": "stdout",
     "output_type": "stream",
     "text": [
      "33 "
     ]
    },
    {
     "name": "stderr",
     "output_type": "stream",
     "text": [
      "IOPub data rate exceeded.\n",
      "The notebook server will temporarily stop sending output\n",
      "to the client in order to avoid crashing it.\n",
      "To change this limit, set the config variable\n",
      "`--NotebookApp.iopub_data_rate_limit`.\n",
      "\n",
      "Current values:\n",
      "NotebookApp.iopub_data_rate_limit=1000000.0 (bytes/sec)\n",
      "NotebookApp.rate_limit_window=3.0 (secs)\n",
      "\n"
     ]
    }
   ],
   "source": [
    "print(dim_list[1,1], dim_list)\n",
    "            "
   ]
  },
  {
   "cell_type": "code",
   "execution_count": 155,
   "metadata": {},
   "outputs": [
    {
     "name": "stdout",
     "output_type": "stream",
     "text": [
      "{0: 1151, 1: 14909, 2: 2840, 3: 6956, 4: 1811, 5: 1891, 6: 6554, 7: 2211, 8: 1764, 9: 2417, 10: 3506, 11: 712, 12: 6047, 13: 691, 14: 26747, 15: 425, 16: 5361, 17: 1287, 18: 2691, 19: 1267, 20: 28502, 21: 5738, 22: 805, 23: 3013, 24: 1179, 25: 6318, 26: 2391, 27: 1546, 28: 736, 29: 14800, 30: 7986, 31: 7860, 32: 3518, 33: 11550, 34: 25285, 35: 4624, 36: 4027, 37: 1952, 38: 2938, 39: 2297, 40: 2805, 41: 1226, 42: 1443, 43: 1052, 44: 2634, 45: 1021, 46: 1099, 47: 4858, 48: 3061, 49: 875}\n"
     ]
    }
   ],
   "source": [
    "dim_list = {}\n",
    "dimx1 = -1\n",
    "dimx2 = 501\n",
    "dimy1 = -1\n",
    "dimy2 = 501\n",
    "for x in range(dimx1, dimx2):\n",
    "    for y in range(dimy1, dimy2):\n",
    "        dim_list[x,y] = None\n",
    "\n",
    "for i, coor in enumerate(coord_list):\n",
    "    #print(i, coor[0], coor[1])\n",
    "    dim_list[coor[0],coor[1]] = i\n",
    "\n",
    "i_count2 = {i: 0 for i in range(len(coord_list))}\n",
    "for y in range(dimy1, dimy2):\n",
    "    for x in range(dimx1, dimx2):\n",
    "        a = {i: manhattan(coor, (x,y)) for i, coor in enumerate(coord_list)}\n",
    "        b = sorted(a.items(), key=lambda z: z[1])\n",
    "        if b[0][1] != b[1][1]:\n",
    "            #print(b[0][0])\n",
    "            #print(dim_list[x,y], b[0][0])\n",
    "            dim_list[x,y] = b[0][0]\n",
    "            i_count2[b[0][0]] = i_count2[b[0][0]] + 1\n",
    "            #print(dim_list[y][x])\n",
    "\n",
    "#print(a)\n",
    "print(i_count2)"
   ]
  },
  {
   "cell_type": "code",
   "execution_count": 162,
   "metadata": {},
   "outputs": [
    {
     "data": {
      "text/plain": [
       "(49, 875)"
      ]
     },
     "execution_count": 162,
     "metadata": {},
     "output_type": "execute_result"
    }
   ],
   "source": [
    "r_sizes = [(i,i_count[i]) for i in i_count.keys() if i_count2[i] == i_count[i]]\n",
    "max(r_sizes)"
   ]
  },
  {
   "cell_type": "code",
   "execution_count": 163,
   "metadata": {},
   "outputs": [
    {
     "data": {
      "text/plain": [
       "[(0, 1151),\n",
       " (4, 1811),\n",
       " (5, 1891),\n",
       " (7, 2211),\n",
       " (8, 1764),\n",
       " (10, 3506),\n",
       " (11, 712),\n",
       " (12, 6047),\n",
       " (13, 691),\n",
       " (15, 425),\n",
       " (16, 5361),\n",
       " (17, 1287),\n",
       " (18, 2691),\n",
       " (19, 1267),\n",
       " (22, 805),\n",
       " (24, 1179),\n",
       " (28, 736),\n",
       " (40, 2805),\n",
       " (42, 1443),\n",
       " (43, 1052),\n",
       " (44, 2634),\n",
       " (45, 1021),\n",
       " (48, 3061),\n",
       " (49, 875)]"
      ]
     },
     "execution_count": 163,
     "metadata": {},
     "output_type": "execute_result"
    }
   ],
   "source": [
    "r_sizes"
   ]
  },
  {
   "cell_type": "code",
   "execution_count": null,
   "metadata": {},
   "outputs": [],
   "source": [
    "dim_list = {}\n",
    "dimx1 = 0\n",
    "dimx2 = 500\n",
    "dimy1 = 0\n",
    "dimy2 = 500\n",
    "for x in range(dimx1, dimx2):\n",
    "    for y in range(dimy1, dimy2):\n",
    "        dim_list[x,y] = None\n",
    "\n",
    "for i, coor in enumerate(coord_list):\n",
    "    #print(i, coor[0], coor[1])\n",
    "    dim_list[coor[0],coor[1]] = i\n",
    "\n",
    "#i_count3 = {i: 0 for i in range(len(coord_list))}\n",
    "i_count3 = 0\n",
    "for y in range(dimy1, dimy2):\n",
    "    for x in range(dimx1, dimx2):\n",
    "        a = sum([ manhattan(coor, (x,y)) for i, coor in enumerate(coord_list)])\n",
    "        if a < 10000:\n",
    "            i_count3 = i_count3 + 1\n",
    "        b = sorted(a.items(), key=lambda z: z[1])\n",
    "        if b[0][1] != b[1][1]:\n",
    "            #print(b[0][0])\n",
    "            #print(dim_list[x,y], b[0][0])\n",
    "            dim_list[x,y] = b[0][0]\n",
    "            i_count3[b[0][0]] = i_count3[b[0][0]] + 1\n",
    "            #print(dim_list[y][x])\n",
    "\n",
    "#print(a)\n",
    "print(i_count3)"
   ]
  },
  {
   "cell_type": "code",
   "execution_count": null,
   "metadata": {},
   "outputs": [],
   "source": []
  },
  {
   "cell_type": "code",
   "execution_count": null,
   "metadata": {},
   "outputs": [],
   "source": []
  },
  {
   "cell_type": "code",
   "execution_count": 125,
   "metadata": {},
   "outputs": [
    {
     "name": "stdout",
     "output_type": "stream",
     "text": [
      "[0, 0, 0, 0, 0, None, 2, 2, 2, 2, 0, 0, 0, 0, 0, None, 2, 2, 2, 2, 0, 0, 0, 3, 3, 4, 2, 2, 2, 2, 0, 0, 3, 3, 3, 4, 2, 2, 2, 2, None, None, 3, 3, 3, 4, 4, 2, 2, 2, 1, 1, None, 3, 4, 4, 4, 4, 2, 2, 1, 1, 1, None, 4, 4, 4, 4, None, None, 1, 1, 1, None, 4, 4, 4, 5, 5, 5, 1, 1, 1, None, 4, 4, 5, 5, 5, 5, 1, 1, 1, None, 5, 5, 5, 5, 5, 5]\n",
      "[(21, 2), (17, 4), (15, 0), (14, 1), (13, 5), (11, None), (9, 3)]\n"
     ]
    }
   ],
   "source": [
    "#x,y = 1,4\n",
    "#a = {i: manhattan(coor, (x,y)) for i, coor in enumerate(coord_list)}\n",
    "#b = sorted(a.items(), key=lambda z: z[1])\n",
    "#if b[0][1] != b[1][1]:\n",
    "#    print(b[0][0])\n",
    "    #dim_list[y][x] = b[0][0]\n",
    "\n",
    "l = []\n",
    "for y in range(dimy):\n",
    "    l.extend([dim_list[x,y] for x in range(dimx)])\n",
    "\n",
    "print(l)\n",
    "print(sorted([(l.count(k), k) for k in set(l)], key = lambda x:x[0], reverse=True))\n",
    "#l = []\n",
    "#for k in dim"
   ]
  },
  {
   "cell_type": "code",
   "execution_count": null,
   "metadata": {},
   "outputs": [],
   "source": []
  }
 ],
 "metadata": {
  "kernelspec": {
   "display_name": "Python 3",
   "language": "python",
   "name": "python3"
  },
  "language_info": {
   "codemirror_mode": {
    "name": "ipython",
    "version": 3
   },
   "file_extension": ".py",
   "mimetype": "text/x-python",
   "name": "python",
   "nbconvert_exporter": "python",
   "pygments_lexer": "ipython3",
   "version": "3.5.6"
  }
 },
 "nbformat": 4,
 "nbformat_minor": 2
}
